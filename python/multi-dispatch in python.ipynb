{
 "cells": [
  {
   "cell_type": "markdown",
   "metadata": {},
   "source": [
    "# Which multidispatch is the fastest"
   ]
  },
  {
   "cell_type": "markdown",
   "metadata": {},
   "source": [
    "## Single Dispatch"
   ]
  },
  {
   "cell_type": "code",
   "execution_count": 22,
   "metadata": {},
   "outputs": [],
   "source": [
    "from functools import singledispatch\n",
    "from simplegeneric import generic\n",
    "import numpy as np"
   ]
  },
  {
   "cell_type": "code",
   "execution_count": 23,
   "metadata": {},
   "outputs": [],
   "source": [
    "def raw(array):\n",
    "    return np.sum(np.sin(array))\n",
    "\n",
    "@singledispatch\n",
    "def singled(*args, **kwargs):\n",
    "    raise NotImplemented(f\"{args}, {kwargs}\")\n",
    "\n",
    "@singled.register(int)\n",
    "def _(a): print('int')\n",
    "\n",
    "@singled.register(str)\n",
    "def _(a): print('str')\n",
    "\n",
    "@singled.register(np.ndarray)\n",
    "def _(a): return np.sum(np.sin(a))\n",
    "\n",
    "@generic\n",
    "def simpleg(*args, **kwargs):\n",
    "    raise NotImplemented(f\"{args}, {kwargs}\")\n",
    "\n",
    "@simpleg.when_type(int)\n",
    "def _(a): print('int')\n",
    "\n",
    "@simpleg.when_type(str)\n",
    "def _(a): print('str')\n",
    "\n",
    "@simpleg.when_type(np.ndarray)\n",
    "def _(a): return np.sum(np.sin(a))"
   ]
  },
  {
   "cell_type": "code",
   "execution_count": 24,
   "metadata": {},
   "outputs": [],
   "source": [
    "np.random.seed(10)\n",
    "a = np.random.rand(100000)"
   ]
  },
  {
   "cell_type": "code",
   "execution_count": 25,
   "metadata": {},
   "outputs": [
    {
     "data": {
      "text/plain": [
       "True"
      ]
     },
     "execution_count": 25,
     "metadata": {},
     "output_type": "execute_result"
    }
   ],
   "source": [
    "singled(a) == simpleg(a) == raw(a)"
   ]
  },
  {
   "cell_type": "code",
   "execution_count": 26,
   "metadata": {},
   "outputs": [
    {
     "name": "stdout",
     "output_type": "stream",
     "text": [
      "151 µs ± 5.46 µs per loop (mean ± std. dev. of 7 runs, 10000 loops each)\n"
     ]
    }
   ],
   "source": [
    "%timeit raw(a)"
   ]
  },
  {
   "cell_type": "code",
   "execution_count": 27,
   "metadata": {},
   "outputs": [
    {
     "name": "stdout",
     "output_type": "stream",
     "text": [
      "154 µs ± 4.99 µs per loop (mean ± std. dev. of 7 runs, 10000 loops each)\n"
     ]
    }
   ],
   "source": [
    "%timeit singled(a)"
   ]
  },
  {
   "cell_type": "code",
   "execution_count": 28,
   "metadata": {},
   "outputs": [
    {
     "name": "stdout",
     "output_type": "stream",
     "text": [
      "156 µs ± 4.07 µs per loop (mean ± std. dev. of 7 runs, 10000 loops each)\n"
     ]
    }
   ],
   "source": [
    "%timeit simpleg(a)"
   ]
  },
  {
   "cell_type": "markdown",
   "metadata": {},
   "source": [
    "## Multi-dispatch"
   ]
  },
  {
   "cell_type": "code",
   "execution_count": 29,
   "metadata": {},
   "outputs": [],
   "source": [
    "from multipledispatch import dispatch\n",
    "from functools import partial\n",
    "import numpy as np\n",
    "my_namespace = dict()\n",
    "dispatch = partial(dispatch, namespace=my_namespace)\n"
   ]
  },
  {
   "cell_type": "code",
   "execution_count": 30,
   "metadata": {},
   "outputs": [],
   "source": [
    "@dispatch(int)  # Uses my_namespace rather than the global namespace\n",
    "def multi(x):\n",
    "    print('int')\n",
    "@dispatch(str)  # Uses my_namespace rather than the global namespace\n",
    "def multi(x):\n",
    "    print('str')\n",
    "@dispatch(np.ndarray)  # Uses my_namespace rather than the global namespace\n",
    "def multi(x):\n",
    "    return np.sum(np.sin(x))"
   ]
  },
  {
   "cell_type": "code",
   "execution_count": 31,
   "metadata": {},
   "outputs": [
    {
     "name": "stdout",
     "output_type": "stream",
     "text": [
      "157 µs ± 5.75 µs per loop (mean ± std. dev. of 7 runs, 10000 loops each)\n"
     ]
    }
   ],
   "source": [
    "%timeit multi(a)"
   ]
  },
  {
   "cell_type": "code",
   "execution_count": 32,
   "metadata": {},
   "outputs": [],
   "source": [
    "@dispatch(int, int)\n",
    "def multi(x, y):\n",
    "    print('int int')\n",
    "@dispatch(int, str)\n",
    "def multi(x, y):\n",
    "    print('int str')\n",
    "@dispatch(str, int)\n",
    "def multi(x, y):\n",
    "    print('str int')\n",
    "@dispatch(np.ndarray, np.ndarray)\n",
    "def multi(x, y):\n",
    "    return np.sum(np.sin(x).dot(np.cos(y)))\n",
    "\n",
    "raw_multi = lambda x,y: np.sum(np.sin(x).dot(np.cos(y)))"
   ]
  },
  {
   "cell_type": "code",
   "execution_count": 33,
   "metadata": {},
   "outputs": [
    {
     "data": {
      "text/plain": [
       "True"
      ]
     },
     "execution_count": 33,
     "metadata": {},
     "output_type": "execute_result"
    }
   ],
   "source": [
    "multi(a,a) == raw_multi(a,a)"
   ]
  },
  {
   "cell_type": "code",
   "execution_count": 34,
   "metadata": {},
   "outputs": [
    {
     "name": "stdout",
     "output_type": "stream",
     "text": [
      "271 µs ± 7.4 µs per loop (mean ± std. dev. of 7 runs, 1000 loops each)\n"
     ]
    }
   ],
   "source": [
    "%timeit multi(a,a)"
   ]
  },
  {
   "cell_type": "code",
   "execution_count": 35,
   "metadata": {},
   "outputs": [
    {
     "name": "stdout",
     "output_type": "stream",
     "text": [
      "273 µs ± 6.07 µs per loop (mean ± std. dev. of 7 runs, 1000 loops each)\n"
     ]
    }
   ],
   "source": [
    "%timeit raw_multi(a,a)"
   ]
  },
  {
   "cell_type": "code",
   "execution_count": 36,
   "metadata": {},
   "outputs": [
    {
     "data": {
      "text/plain": [
       "{'multi': <dispatched multi>}"
      ]
     },
     "execution_count": 36,
     "metadata": {},
     "output_type": "execute_result"
    }
   ],
   "source": [
    "my_namespace"
   ]
  }
 ],
 "metadata": {
  "kernelspec": {
   "display_name": "Python [conda env:miniconda3]",
   "language": "python",
   "name": "conda-env-miniconda3-py"
  },
  "language_info": {
   "codemirror_mode": {
    "name": "ipython",
    "version": 3
   },
   "file_extension": ".py",
   "mimetype": "text/x-python",
   "name": "python",
   "nbconvert_exporter": "python",
   "pygments_lexer": "ipython3",
   "version": "3.6.7"
  },
  "toc": {
   "base_numbering": 1,
   "nav_menu": {},
   "number_sections": true,
   "sideBar": true,
   "skip_h1_title": false,
   "title_cell": "Table of Contents",
   "title_sidebar": "Contents",
   "toc_cell": false,
   "toc_position": {},
   "toc_section_display": true,
   "toc_window_display": false
  }
 },
 "nbformat": 4,
 "nbformat_minor": 2
}
